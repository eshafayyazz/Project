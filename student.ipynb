{
  "cells": [
    {
      "cell_type": "markdown",
      "metadata": {
        "id": "view-in-github",
        "colab_type": "text"
      },
      "source": [
        "<a href=\"https://colab.research.google.com/github/eshafayyazz/Project/blob/main/student.ipynb\" target=\"_parent\"><img src=\"https://colab.research.google.com/assets/colab-badge.svg\" alt=\"Open In Colab\"/></a>"
      ]
    },
    {
      "cell_type": "markdown",
      "metadata": {
        "id": "hzbJRUEUQibd"
      },
      "source": [
        "# **Project: Student Performance Tracker**"
      ]
    },
    {
      "cell_type": "code",
      "source": [
        "class Student:\n",
        "    def __init__(self, name, scores):\n",
        "        self.name = name\n",
        "        self.scores = scores\n",
        "\n",
        "    def calculate_average(self):\n",
        "        return sum(self.scores) / len(self.scores) if self.scores else 0\n",
        "\n",
        "    def is_passing(self, passing_score=40):\n",
        "        return all(score >= passing_score for score in self.scores)\n",
        "\n",
        "\n",
        "class PerformanceTracker:\n",
        "    def __init__(self):\n",
        "        self.students = {}\n",
        "\n",
        "    def add_student(self, name, scores):\n",
        "        self.students[name] = Student(name, scores)\n",
        "\n",
        "    def calculate_class_average(self):\n",
        "        if not self.students:\n",
        "            return 0\n",
        "        total_average = sum(student.calculate_average() for student in self.students.values())\n",
        "        return total_average / len(self.students)\n",
        "\n",
        "    def display_student_performance(self):\n",
        "        print(\"\\n--- Student Performance Summary ---\")\n",
        "        for name, student in self.students.items():\n",
        "            average = student.calculate_average()\n",
        "            status = \"Passing\" if student.is_passing() else \"Needs Improvement\"\n",
        "            print(f\"{name}: Average Score = {average:.2f}, Status = {status}\")\n",
        "\n",
        "        class_average = self.calculate_class_average()\n",
        "        print(f\"\\nClass Average Score: {class_average:.2f}\")\n",
        "\n",
        "\n",
        "def get_student_data():\n",
        "    name = input(\"Enter the student's name: \")\n",
        "    scores = []\n",
        "    subjects = [\"Math\", \"Science\", \"English\"]\n",
        "\n",
        "    for subject in subjects:\n",
        "        while True:\n",
        "            try:\n",
        "                score = int(input(f\"Enter {name}'s score in {subject}: \"))\n",
        "                scores.append(score)\n",
        "                break\n",
        "            except ValueError:\n",
        "                print(\"Invalid input. Please enter a numeric score.\")\n",
        "\n",
        "    return name, scores\n",
        "\n",
        "\n",
        "def main():\n",
        "    tracker = PerformanceTracker()\n",
        "\n",
        "    while True:\n",
        "        name, scores = get_student_data()\n",
        "        tracker.add_student(name, scores)\n",
        "\n",
        "        # Ask if the teacher wants to add another student after entering all scores for the current student\n",
        "        more_students = input(\"Would you like to add another student? (yes/no): \").strip().lower()\n",
        "        if more_students != 'yes':\n",
        "            break\n",
        "\n",
        "    tracker.display_student_performance()\n",
        "\n",
        "\n",
        "# Run the main function to start the program\n",
        "if __name__ == \"__main__\":\n",
        "    main()\n",
        "\n"
      ],
      "metadata": {
        "colab": {
          "base_uri": "https://localhost:8080/"
        },
        "id": "782veq6o1i7u",
        "outputId": "7596a87b-0771-4762-f109-34cf0d457d94"
      },
      "execution_count": null,
      "outputs": [
        {
          "output_type": "stream",
          "name": "stdout",
          "text": [
            "Enter the student's name: esha\n",
            "Enter esha's score in Math: 78\n",
            "Enter esha's score in Science: 45\n",
            "Enter esha's score in English: 89\n",
            "Would you like to add another student? (yes/no): yes\n",
            "Enter the student's name: maham \n",
            "Enter maham 's score in Math: 90\n",
            "Enter maham 's score in Science: 67\n",
            "Enter maham 's score in English: 89\n",
            "Would you like to add another student? (yes/no): yes\n",
            "Enter the student's name: maryam\n",
            "Enter maryam's score in Math: 67\n",
            "Enter maryam's score in Science: 89\n",
            "Enter maryam's score in English: 90\n",
            "Would you like to add another student? (yes/no): no\n",
            "\n",
            "--- Student Performance Summary ---\n",
            "esha: Average Score = 70.67, Status = Passing\n",
            "maham : Average Score = 82.00, Status = Passing\n",
            "maryam: Average Score = 82.00, Status = Passing\n",
            "\n",
            "Class Average Score: 78.22\n"
          ]
        }
      ]
    }
  ],
  "metadata": {
    "colab": {
      "provenance": [],
      "authorship_tag": "ABX9TyMxLUrBErvr7bZMsuIDWb9L",
      "include_colab_link": true
    },
    "kernelspec": {
      "display_name": "Python 3",
      "name": "python3"
    },
    "language_info": {
      "name": "python"
    }
  },
  "nbformat": 4,
  "nbformat_minor": 0
}